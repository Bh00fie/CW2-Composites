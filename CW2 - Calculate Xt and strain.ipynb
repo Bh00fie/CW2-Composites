{
 "cells": [
  {
   "cell_type": "code",
   "execution_count": 1,
   "metadata": {
    "tags": []
   },
   "outputs": [
    {
     "name": "stdout",
     "output_type": "stream",
     "text": [
      "[496.59752522938584, 484.01075922112784, 490.6002328591122, 317.7146035658597, 307.1068149193777, 314.99690253864367]\n",
      "[0.0198294161223828, 0.0202355257585355, 0.0207914843736458, 0.0199107875073089, 0.0164975963890056, 0.0162086481654515]\n"
     ]
    }
   ],
   "source": [
    "from sympy import symbols, Eq, solve\n",
    "\n",
    "# Define the symbols\n",
    "x, y = symbols('x y')\n",
    "\n",
    "# Given equations\n",
    "equations = [\n",
    "    Eq(y, 24688*x + 7.0489),\n",
    "    Eq(y, 23593*x + 6.594),\n",
    "    Eq(y, 23271*x + 6.7616),\n",
    "    Eq(y, 15852*x + 2.0888),\n",
    "    Eq(y, 18466*x + 2.4622),\n",
    "    Eq(y, 19357*x + 1.2461)\n",
    "]\n",
    "\n",
    "# Given values of max_load and area\n",
    "max_load = [\n",
    "    34783.44531,\n",
    "    34492.71484,\n",
    "    34282.09766,\n",
    "    28227.24805,\n",
    "    27094.32813,\n",
    "    28339.36133\n",
    "]\n",
    "\n",
    "area = [\n",
    "    70.04353333,\n",
    "    71.26435556,\n",
    "    69.87786667,\n",
    "    88.84466667,\n",
    "    88.22444444,\n",
    "    89.96711111\n",
    "]\n",
    "\n",
    "# Calculate the ratio of max_load to area for each pair\n",
    "y_values = [max_load[i] / area[i] for i in range(len(max_load))]\n",
    "\n",
    "print(y_values)\n",
    "# Solve for x for each equation using the new y_values\n",
    "x_values = []\n",
    "\n",
    "for i in range(len(equations)):\n",
    "    # Substitute the given y value into the equation\n",
    "    equation_with_y = equations[i].subs(y, y_values[i])\n",
    "    \n",
    "    # Solve for x\n",
    "    solution = solve(equation_with_y, x)\n",
    "    \n",
    "    # Append the solution to the list of x values\n",
    "    x_values.append(solution[0])\n",
    "    \n",
    "print(x_values)\n"
   ]
  }
 ],
 "metadata": {
  "kernelspec": {
   "display_name": "Python 3",
   "language": "python",
   "name": "python3"
  },
  "language_info": {
   "codemirror_mode": {
    "name": "ipython",
    "version": 3
   },
   "file_extension": ".py",
   "mimetype": "text/x-python",
   "name": "python",
   "nbconvert_exporter": "python",
   "pygments_lexer": "ipython3",
   "version": "3.12.0"
  }
 },
 "nbformat": 4,
 "nbformat_minor": 2
}
